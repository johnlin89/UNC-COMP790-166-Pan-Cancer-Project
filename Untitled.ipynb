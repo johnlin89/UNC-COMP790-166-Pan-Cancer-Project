{
 "cells": [
  {
   "cell_type": "code",
   "execution_count": 4,
   "metadata": {},
   "outputs": [
    {
     "ename": "ERROR",
     "evalue": "Error: package or namespace load failed for ‘diceR’ in dyn.load(file, DLLpath = DLLpath, ...):\n unable to load shared object '/nas/longleaf/home/seyoun/R/x86_64-pc-linux-gnu-library/4.0/mclust/libs/mclust.so':\n  libRlapack.so: cannot open shared object file: No such file or directory\n",
     "output_type": "error",
     "traceback": [
      "Error: package or namespace load failed for ‘diceR’ in dyn.load(file, DLLpath = DLLpath, ...):\n unable to load shared object '/nas/longleaf/home/seyoun/R/x86_64-pc-linux-gnu-library/4.0/mclust/libs/mclust.so':\n  libRlapack.so: cannot open shared object file: No such file or directory\nTraceback:\n",
      "1. library(diceR)",
      "2. tryCatch({\n .     attr(package, \"LibPath\") <- which.lib.loc\n .     ns <- loadNamespace(package, lib.loc)\n .     env <- attachNamespace(ns, pos = pos, deps, exclude, include.only)\n . }, error = function(e) {\n .     P <- if (!is.null(cc <- conditionCall(e))) \n .         paste(\" in\", deparse(cc)[1L])\n .     else \"\"\n .     msg <- gettextf(\"package or namespace load failed for %s%s:\\n %s\", \n .         sQuote(package), P, conditionMessage(e))\n .     if (logical.return) \n .         message(paste(\"Error:\", msg), domain = NA)\n .     else stop(msg, call. = FALSE, domain = NA)\n . })",
      "3. tryCatchList(expr, classes, parentenv, handlers)",
      "4. tryCatchOne(expr, names, parentenv, handlers[[1L]])",
      "5. value[[3L]](cond)",
      "6. stop(msg, call. = FALSE, domain = NA)"
     ]
    }
   ],
   "source": [
    ".libPaths(\"/nas/longleaf/home/seyoun/R/x86_64-pc-linux-gnu-library/4.0\")\n",
    "#.libPaths(\"/nas/longleaf/apps/r/4.0.1/lib64/R/library\")\n",
    "library(data.table)\n",
    "library(diceR)"
   ]
  },
  {
   "cell_type": "code",
   "execution_count": null,
   "metadata": {
    "scrolled": false
   },
   "outputs": [],
   "source": []
  },
  {
   "cell_type": "code",
   "execution_count": null,
   "metadata": {},
   "outputs": [],
   "source": []
  }
 ],
 "metadata": {
  "kernelspec": {
   "display_name": "R 4.0.3",
   "language": "R",
   "name": "ir403"
  },
  "language_info": {
   "codemirror_mode": "r",
   "file_extension": ".r",
   "mimetype": "text/x-r-source",
   "name": "R",
   "pygments_lexer": "r",
   "version": "4.0.3"
  }
 },
 "nbformat": 4,
 "nbformat_minor": 2
}
