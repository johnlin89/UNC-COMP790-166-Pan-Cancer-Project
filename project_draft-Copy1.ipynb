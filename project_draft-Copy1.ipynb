{
 "cells": [
  {
   "cell_type": "code",
   "execution_count": 2,
   "metadata": {},
   "outputs": [],
   "source": [
    " import numpy as np"
   ]
  },
  {
   "cell_type": "code",
   "execution_count": 3,
   "metadata": {},
   "outputs": [],
   "source": [
    "from sklearn.decomposition import NMF "
   ]
  },
  {
   "cell_type": "code",
   "execution_count": 4,
   "metadata": {},
   "outputs": [],
   "source": [
    "model = NMF()"
   ]
  },
  {
   "cell_type": "code",
   "execution_count": 11,
   "metadata": {},
   "outputs": [
    {
     "name": "stderr",
     "output_type": "stream",
     "text": [
      "/nas/longleaf/apps/anaconda/2020.07.ood/lib/python3.8/site-packages/sklearn/decomposition/_nmf.py:1076: ConvergenceWarning: Maximum number of iterations 200 reached. Increase it to improve convergence.\n",
      "  warnings.warn(\"Maximum number of iterations %d reached. Increase it to\"\n"
     ]
    },
    {
     "data": {
      "text/plain": [
       "NMF()"
      ]
     },
     "execution_count": 11,
     "metadata": {},
     "output_type": "execute_result"
    }
   ],
   "source": [
    "model.fit(exp_arr)"
   ]
  },
  {
   "cell_type": "code",
   "execution_count": 12,
   "metadata": {},
   "outputs": [
    {
     "name": "stderr",
     "output_type": "stream",
     "text": [
      "/nas/longleaf/apps/anaconda/2020.07.ood/lib/python3.8/site-packages/sklearn/decomposition/_nmf.py:1076: ConvergenceWarning: Maximum number of iterations 200 reached. Increase it to improve convergence.\n",
      "  warnings.warn(\"Maximum number of iterations %d reached. Increase it to\"\n"
     ]
    }
   ],
   "source": [
    "nmf_features = model.transform(exp_arr)"
   ]
  },
  {
   "cell_type": "code",
   "execution_count": 13,
   "metadata": {},
   "outputs": [
    {
     "name": "stdout",
     "output_type": "stream",
     "text": [
      "(2000, 1156)\n"
     ]
    }
   ],
   "source": [
    "print(nmf_features.shape)"
   ]
  },
  {
   "cell_type": "code",
   "execution_count": 14,
   "metadata": {},
   "outputs": [
    {
     "name": "stdout",
     "output_type": "stream",
     "text": [
      "(1156, 1156)\n"
     ]
    }
   ],
   "source": [
    "print(model.components_.shape)"
   ]
  },
  {
   "cell_type": "code",
   "execution_count": 1,
   "metadata": {},
   "outputs": [],
   "source": [
    "import sys, pkg_resources, imp, os\n",
    "sys.path.append('.')\n",
    "sys.path.append('/nas/longleaf/apps/python/3.7.9/lib/python3.7')\n",
    "sys.path.append('/nas/longleaf/apps/python/3.7.9/lib/python3.7/site-packages')\n",
    "sys.path.append('/nas/longleaf/apps/python/3.7.9/lib/python37.zip')\n",
    "sys.path.append('/nas/longleaf/apps/python/3.7.9/lib/python3.7/lib-dynload')\n",
    "sys.path.append('/nas/longleaf/home/seyoun/.local/lib/python3.7/site-packages')\n",
    "sys.path.append('/nas/longleaf/apps/python/3.7.9/lib/python3.7/site-packages/cvxopt-1.2.5-py3.7-linux-x86_64.egg')\n",
    "sys.path.append('/nas/longleaf/apps/python/3.7.9/lib/python3.7/site-packages/GDAL-1.11.1-py3.7-linux-x86_64.egg')\n",
    "sys.path.append('/nas/longleaf/home/seyoun/.local/lib/python3.7/site-packages/tabix.cpython-37m-x86_64-linux-gnu.so')\n",
    "sys.path.append(\"/pine/scr/s/e/seyoun/06.Liz/Onco_gps_example_notebook/notebooks\")\n",
    "\n",
    "#os.environ['R_HOME'] = \"/nas/longleaf/apps/r/4.0.3/lib64/R/\"\n",
    "os.environ['R_HOME'] = '/nas/longleaf/apps/anaconda/2020.07.ood/envs/r41/lib/R'\n",
    "import pandas as pd\n",
    "import numpy as np"
   ]
  },
  {
   "cell_type": "code",
   "execution_count": 2,
   "metadata": {},
   "outputs": [
    {
     "name": "stdout",
     "output_type": "stream",
     "text": [
      "CCAL version 0.9.4 @ /pine/scr/s/e/seyoun/06.Liz/Onco_gps_example_notebook/notebooks/ccal/__init__.py\n"
     ]
    }
   ],
   "source": [
    "import ccal"
   ]
  },
  {
   "cell_type": "code",
   "execution_count": 3,
   "metadata": {},
   "outputs": [
    {
     "data": {
      "text/html": [
       "        <script type=\"text/javascript\">\n",
       "        window.PlotlyConfig = {MathJaxConfig: 'local'};\n",
       "        if (window.MathJax) {MathJax.Hub.Config({SVG: {font: \"STIX-Web\"}});}\n",
       "        if (typeof require !== 'undefined') {\n",
       "        require.undef(\"plotly\");\n",
       "        requirejs.config({\n",
       "            paths: {\n",
       "                'plotly': ['https://cdn.plot.ly/plotly-2.11.1.min']\n",
       "            }\n",
       "        });\n",
       "        require(['plotly'], function(Plotly) {\n",
       "            window._Plotly = Plotly;\n",
       "        });\n",
       "        }\n",
       "        </script>\n",
       "        "
      ]
     },
     "metadata": {},
     "output_type": "display_data"
    }
   ],
   "source": [
    "from plotly.offline import init_notebook_mode\n",
    "init_notebook_mode(connected = True)\n",
    "np.random.seed(7678)"
   ]
  },
  {
   "cell_type": "code",
   "execution_count": 4,
   "metadata": {
    "scrolled": true
   },
   "outputs": [],
   "source": [
    "exp = pd.read_csv('/pine/scr/s/e/seyoun/03.comp790/project_comp790/CL191_265genes.csv',sep=\",\")"
   ]
  },
  {
   "cell_type": "code",
   "execution_count": 5,
   "metadata": {},
   "outputs": [
    {
     "data": {
      "text/html": [
       "<div>\n",
       "<style scoped>\n",
       "    .dataframe tbody tr th:only-of-type {\n",
       "        vertical-align: middle;\n",
       "    }\n",
       "\n",
       "    .dataframe tbody tr th {\n",
       "        vertical-align: top;\n",
       "    }\n",
       "\n",
       "    .dataframe thead th {\n",
       "        text-align: right;\n",
       "    }\n",
       "</style>\n",
       "<table border=\"1\" class=\"dataframe\">\n",
       "  <thead>\n",
       "    <tr style=\"text-align: right;\">\n",
       "      <th></th>\n",
       "      <th>2313287_STOMACH</th>\n",
       "      <th>42MGBA_CENTRAL_NERVOUS_SYSTEM</th>\n",
       "      <th>8305C_THYROID</th>\n",
       "      <th>A204_SOFT_TISSUE</th>\n",
       "      <th>A2058_SKIN</th>\n",
       "      <th>A375_SKIN</th>\n",
       "      <th>ABC1_LUNG</th>\n",
       "      <th>ACCMESO1_PLEURA</th>\n",
       "      <th>ASPC1_PANCREAS</th>\n",
       "      <th>BCPAP_THYROID</th>\n",
       "      <th>...</th>\n",
       "      <th>TOV21G_OVARY</th>\n",
       "      <th>TYKNU_OVARY</th>\n",
       "      <th>U118MG_CENTRAL_NERVOUS_SYSTEM</th>\n",
       "      <th>UACC257_SKIN</th>\n",
       "      <th>UMUC1_URINARY_TRACT</th>\n",
       "      <th>VMCUB1_URINARY_TRACT</th>\n",
       "      <th>VMRCRCZ_KIDNEY</th>\n",
       "      <th>WM88_SKIN</th>\n",
       "      <th>YD38_UPPER_AERODIGESTIVE_TRACT</th>\n",
       "      <th>ZR751_BREAST</th>\n",
       "    </tr>\n",
       "  </thead>\n",
       "  <tbody>\n",
       "    <tr>\n",
       "      <th>ENSG00000233954.4</th>\n",
       "      <td>37.43420</td>\n",
       "      <td>197.47491</td>\n",
       "      <td>101.82439</td>\n",
       "      <td>95.46738</td>\n",
       "      <td>183.97685</td>\n",
       "      <td>251.31998</td>\n",
       "      <td>141.55420</td>\n",
       "      <td>404.88110</td>\n",
       "      <td>82.12465</td>\n",
       "      <td>220.79359</td>\n",
       "      <td>...</td>\n",
       "      <td>169.06320</td>\n",
       "      <td>391.98062</td>\n",
       "      <td>74.98994</td>\n",
       "      <td>242.01198</td>\n",
       "      <td>82.32405</td>\n",
       "      <td>64.75183</td>\n",
       "      <td>114.28565</td>\n",
       "      <td>161.20895</td>\n",
       "      <td>96.15622</td>\n",
       "      <td>214.73779</td>\n",
       "    </tr>\n",
       "    <tr>\n",
       "      <th>ENSG00000175793.10</th>\n",
       "      <td>85.16244</td>\n",
       "      <td>0.89834</td>\n",
       "      <td>26.16273</td>\n",
       "      <td>185.09824</td>\n",
       "      <td>0.18405</td>\n",
       "      <td>0.66755</td>\n",
       "      <td>58.00774</td>\n",
       "      <td>24.45513</td>\n",
       "      <td>101.84213</td>\n",
       "      <td>16.31564</td>\n",
       "      <td>...</td>\n",
       "      <td>56.31920</td>\n",
       "      <td>9.60621</td>\n",
       "      <td>0.17848</td>\n",
       "      <td>0.35368</td>\n",
       "      <td>82.17691</td>\n",
       "      <td>473.06256</td>\n",
       "      <td>1.71875</td>\n",
       "      <td>0.63909</td>\n",
       "      <td>486.32864</td>\n",
       "      <td>20.35825</td>\n",
       "    </tr>\n",
       "    <tr>\n",
       "      <th>ENSG00000126709.10</th>\n",
       "      <td>2.48527</td>\n",
       "      <td>63.66956</td>\n",
       "      <td>9.46570</td>\n",
       "      <td>148.92754</td>\n",
       "      <td>12.73103</td>\n",
       "      <td>21.49375</td>\n",
       "      <td>3.17182</td>\n",
       "      <td>272.61829</td>\n",
       "      <td>7.03005</td>\n",
       "      <td>74.57837</td>\n",
       "      <td>...</td>\n",
       "      <td>11.92595</td>\n",
       "      <td>407.34372</td>\n",
       "      <td>26.40981</td>\n",
       "      <td>39.62967</td>\n",
       "      <td>26.18151</td>\n",
       "      <td>30.44557</td>\n",
       "      <td>1.38849</td>\n",
       "      <td>31.89032</td>\n",
       "      <td>34.44125</td>\n",
       "      <td>15.82043</td>\n",
       "    </tr>\n",
       "    <tr>\n",
       "      <th>ENSG00000142910.11</th>\n",
       "      <td>17.04399</td>\n",
       "      <td>0.12537</td>\n",
       "      <td>61.42997</td>\n",
       "      <td>0.26935</td>\n",
       "      <td>6.38604</td>\n",
       "      <td>36.95238</td>\n",
       "      <td>7.05141</td>\n",
       "      <td>10.71703</td>\n",
       "      <td>36.41265</td>\n",
       "      <td>30.25286</td>\n",
       "      <td>...</td>\n",
       "      <td>0.51457</td>\n",
       "      <td>0.08633</td>\n",
       "      <td>0.04489</td>\n",
       "      <td>0.19446</td>\n",
       "      <td>102.93144</td>\n",
       "      <td>307.66861</td>\n",
       "      <td>57.83268</td>\n",
       "      <td>3.29571</td>\n",
       "      <td>52.42889</td>\n",
       "      <td>0.39441</td>\n",
       "    </tr>\n",
       "    <tr>\n",
       "      <th>ENSG00000117472.5</th>\n",
       "      <td>37.90178</td>\n",
       "      <td>0.14373</td>\n",
       "      <td>1.15236</td>\n",
       "      <td>0.41509</td>\n",
       "      <td>0.27961</td>\n",
       "      <td>0.63781</td>\n",
       "      <td>0.99000</td>\n",
       "      <td>0.48077</td>\n",
       "      <td>203.08499</td>\n",
       "      <td>1.38869</td>\n",
       "      <td>...</td>\n",
       "      <td>13.93196</td>\n",
       "      <td>15.50942</td>\n",
       "      <td>1.10000</td>\n",
       "      <td>1.18392</td>\n",
       "      <td>82.15488</td>\n",
       "      <td>308.80969</td>\n",
       "      <td>1.12601</td>\n",
       "      <td>0.42485</td>\n",
       "      <td>124.10782</td>\n",
       "      <td>37.84809</td>\n",
       "    </tr>\n",
       "    <tr>\n",
       "      <th>...</th>\n",
       "      <td>...</td>\n",
       "      <td>...</td>\n",
       "      <td>...</td>\n",
       "      <td>...</td>\n",
       "      <td>...</td>\n",
       "      <td>...</td>\n",
       "      <td>...</td>\n",
       "      <td>...</td>\n",
       "      <td>...</td>\n",
       "      <td>...</td>\n",
       "      <td>...</td>\n",
       "      <td>...</td>\n",
       "      <td>...</td>\n",
       "      <td>...</td>\n",
       "      <td>...</td>\n",
       "      <td>...</td>\n",
       "      <td>...</td>\n",
       "      <td>...</td>\n",
       "      <td>...</td>\n",
       "      <td>...</td>\n",
       "      <td>...</td>\n",
       "    </tr>\n",
       "    <tr>\n",
       "      <th>ENSG00000241465.2</th>\n",
       "      <td>66.71662</td>\n",
       "      <td>0.15489</td>\n",
       "      <td>2.33929</td>\n",
       "      <td>0.15023</td>\n",
       "      <td>0.72919</td>\n",
       "      <td>8.26990</td>\n",
       "      <td>0.12562</td>\n",
       "      <td>0.40888</td>\n",
       "      <td>0.07719</td>\n",
       "      <td>0.15946</td>\n",
       "      <td>...</td>\n",
       "      <td>0.06024</td>\n",
       "      <td>0.05961</td>\n",
       "      <td>0.22066</td>\n",
       "      <td>0.08131</td>\n",
       "      <td>0.16487</td>\n",
       "      <td>0.28710</td>\n",
       "      <td>0.00000</td>\n",
       "      <td>47.40757</td>\n",
       "      <td>0.00000</td>\n",
       "      <td>0.14381</td>\n",
       "    </tr>\n",
       "    <tr>\n",
       "      <th>ENSG00000123560.9</th>\n",
       "      <td>0.01167</td>\n",
       "      <td>0.02960</td>\n",
       "      <td>0.00462</td>\n",
       "      <td>0.05126</td>\n",
       "      <td>46.67321</td>\n",
       "      <td>26.02699</td>\n",
       "      <td>0.03772</td>\n",
       "      <td>0.12500</td>\n",
       "      <td>0.01475</td>\n",
       "      <td>0.03047</td>\n",
       "      <td>...</td>\n",
       "      <td>0.02110</td>\n",
       "      <td>0.01709</td>\n",
       "      <td>3.37871</td>\n",
       "      <td>82.45965</td>\n",
       "      <td>0.08663</td>\n",
       "      <td>0.11520</td>\n",
       "      <td>0.05216</td>\n",
       "      <td>150.67763</td>\n",
       "      <td>0.09574</td>\n",
       "      <td>0.04809</td>\n",
       "    </tr>\n",
       "    <tr>\n",
       "      <th>ENSG00000147381.7</th>\n",
       "      <td>128.93878</td>\n",
       "      <td>0.10747</td>\n",
       "      <td>0.12253</td>\n",
       "      <td>0.14851</td>\n",
       "      <td>4.37030</td>\n",
       "      <td>353.64355</td>\n",
       "      <td>0.03938</td>\n",
       "      <td>0.08971</td>\n",
       "      <td>0.04885</td>\n",
       "      <td>0.07065</td>\n",
       "      <td>...</td>\n",
       "      <td>0.18978</td>\n",
       "      <td>0.06540</td>\n",
       "      <td>0.02201</td>\n",
       "      <td>0.08234</td>\n",
       "      <td>0.16231</td>\n",
       "      <td>5.56278</td>\n",
       "      <td>0.07088</td>\n",
       "      <td>3.31069</td>\n",
       "      <td>78.89227</td>\n",
       "      <td>0.11529</td>\n",
       "    </tr>\n",
       "    <tr>\n",
       "      <th>ENSG00000182492.11</th>\n",
       "      <td>0.11656</td>\n",
       "      <td>148.05975</td>\n",
       "      <td>8.08821</td>\n",
       "      <td>0.54595</td>\n",
       "      <td>1.24649</td>\n",
       "      <td>2.56933</td>\n",
       "      <td>0.03043</td>\n",
       "      <td>0.06067</td>\n",
       "      <td>0.04091</td>\n",
       "      <td>3.29999</td>\n",
       "      <td>...</td>\n",
       "      <td>0.30221</td>\n",
       "      <td>0.06003</td>\n",
       "      <td>0.38272</td>\n",
       "      <td>0.12066</td>\n",
       "      <td>1.14749</td>\n",
       "      <td>0.32865</td>\n",
       "      <td>0.24481</td>\n",
       "      <td>0.20825</td>\n",
       "      <td>0.16819</td>\n",
       "      <td>0.07621</td>\n",
       "    </tr>\n",
       "    <tr>\n",
       "      <th>ENSG00000185275.6</th>\n",
       "      <td>5.27318</td>\n",
       "      <td>8.21276</td>\n",
       "      <td>0.55237</td>\n",
       "      <td>1.01039</td>\n",
       "      <td>1.59361</td>\n",
       "      <td>0.56825</td>\n",
       "      <td>342.06000</td>\n",
       "      <td>8.83722</td>\n",
       "      <td>0.12388</td>\n",
       "      <td>2.85777</td>\n",
       "      <td>...</td>\n",
       "      <td>1481.23901</td>\n",
       "      <td>0.51027</td>\n",
       "      <td>0.66537</td>\n",
       "      <td>0.34800</td>\n",
       "      <td>146.17610</td>\n",
       "      <td>31.70189</td>\n",
       "      <td>554.73712</td>\n",
       "      <td>1.01720</td>\n",
       "      <td>61.21038</td>\n",
       "      <td>333.73865</td>\n",
       "    </tr>\n",
       "  </tbody>\n",
       "</table>\n",
       "<p>265 rows × 191 columns</p>\n",
       "</div>"
      ],
      "text/plain": [
       "                    2313287_STOMACH  42MGBA_CENTRAL_NERVOUS_SYSTEM  \\\n",
       "ENSG00000233954.4          37.43420                      197.47491   \n",
       "ENSG00000175793.10         85.16244                        0.89834   \n",
       "ENSG00000126709.10          2.48527                       63.66956   \n",
       "ENSG00000142910.11         17.04399                        0.12537   \n",
       "ENSG00000117472.5          37.90178                        0.14373   \n",
       "...                             ...                            ...   \n",
       "ENSG00000241465.2          66.71662                        0.15489   \n",
       "ENSG00000123560.9           0.01167                        0.02960   \n",
       "ENSG00000147381.7         128.93878                        0.10747   \n",
       "ENSG00000182492.11          0.11656                      148.05975   \n",
       "ENSG00000185275.6           5.27318                        8.21276   \n",
       "\n",
       "                    8305C_THYROID  A204_SOFT_TISSUE  A2058_SKIN  A375_SKIN  \\\n",
       "ENSG00000233954.4       101.82439          95.46738   183.97685  251.31998   \n",
       "ENSG00000175793.10       26.16273         185.09824     0.18405    0.66755   \n",
       "ENSG00000126709.10        9.46570         148.92754    12.73103   21.49375   \n",
       "ENSG00000142910.11       61.42997           0.26935     6.38604   36.95238   \n",
       "ENSG00000117472.5         1.15236           0.41509     0.27961    0.63781   \n",
       "...                           ...               ...         ...        ...   \n",
       "ENSG00000241465.2         2.33929           0.15023     0.72919    8.26990   \n",
       "ENSG00000123560.9         0.00462           0.05126    46.67321   26.02699   \n",
       "ENSG00000147381.7         0.12253           0.14851     4.37030  353.64355   \n",
       "ENSG00000182492.11        8.08821           0.54595     1.24649    2.56933   \n",
       "ENSG00000185275.6         0.55237           1.01039     1.59361    0.56825   \n",
       "\n",
       "                    ABC1_LUNG  ACCMESO1_PLEURA  ASPC1_PANCREAS  BCPAP_THYROID  \\\n",
       "ENSG00000233954.4   141.55420        404.88110        82.12465      220.79359   \n",
       "ENSG00000175793.10   58.00774         24.45513       101.84213       16.31564   \n",
       "ENSG00000126709.10    3.17182        272.61829         7.03005       74.57837   \n",
       "ENSG00000142910.11    7.05141         10.71703        36.41265       30.25286   \n",
       "ENSG00000117472.5     0.99000          0.48077       203.08499        1.38869   \n",
       "...                       ...              ...             ...            ...   \n",
       "ENSG00000241465.2     0.12562          0.40888         0.07719        0.15946   \n",
       "ENSG00000123560.9     0.03772          0.12500         0.01475        0.03047   \n",
       "ENSG00000147381.7     0.03938          0.08971         0.04885        0.07065   \n",
       "ENSG00000182492.11    0.03043          0.06067         0.04091        3.29999   \n",
       "ENSG00000185275.6   342.06000          8.83722         0.12388        2.85777   \n",
       "\n",
       "                    ...  TOV21G_OVARY  TYKNU_OVARY  \\\n",
       "ENSG00000233954.4   ...     169.06320    391.98062   \n",
       "ENSG00000175793.10  ...      56.31920      9.60621   \n",
       "ENSG00000126709.10  ...      11.92595    407.34372   \n",
       "ENSG00000142910.11  ...       0.51457      0.08633   \n",
       "ENSG00000117472.5   ...      13.93196     15.50942   \n",
       "...                 ...           ...          ...   \n",
       "ENSG00000241465.2   ...       0.06024      0.05961   \n",
       "ENSG00000123560.9   ...       0.02110      0.01709   \n",
       "ENSG00000147381.7   ...       0.18978      0.06540   \n",
       "ENSG00000182492.11  ...       0.30221      0.06003   \n",
       "ENSG00000185275.6   ...    1481.23901      0.51027   \n",
       "\n",
       "                    U118MG_CENTRAL_NERVOUS_SYSTEM  UACC257_SKIN  \\\n",
       "ENSG00000233954.4                        74.98994     242.01198   \n",
       "ENSG00000175793.10                        0.17848       0.35368   \n",
       "ENSG00000126709.10                       26.40981      39.62967   \n",
       "ENSG00000142910.11                        0.04489       0.19446   \n",
       "ENSG00000117472.5                         1.10000       1.18392   \n",
       "...                                           ...           ...   \n",
       "ENSG00000241465.2                         0.22066       0.08131   \n",
       "ENSG00000123560.9                         3.37871      82.45965   \n",
       "ENSG00000147381.7                         0.02201       0.08234   \n",
       "ENSG00000182492.11                        0.38272       0.12066   \n",
       "ENSG00000185275.6                         0.66537       0.34800   \n",
       "\n",
       "                    UMUC1_URINARY_TRACT  VMCUB1_URINARY_TRACT  VMRCRCZ_KIDNEY  \\\n",
       "ENSG00000233954.4              82.32405              64.75183       114.28565   \n",
       "ENSG00000175793.10             82.17691             473.06256         1.71875   \n",
       "ENSG00000126709.10             26.18151              30.44557         1.38849   \n",
       "ENSG00000142910.11            102.93144             307.66861        57.83268   \n",
       "ENSG00000117472.5              82.15488             308.80969         1.12601   \n",
       "...                                 ...                   ...             ...   \n",
       "ENSG00000241465.2               0.16487               0.28710         0.00000   \n",
       "ENSG00000123560.9               0.08663               0.11520         0.05216   \n",
       "ENSG00000147381.7               0.16231               5.56278         0.07088   \n",
       "ENSG00000182492.11              1.14749               0.32865         0.24481   \n",
       "ENSG00000185275.6             146.17610              31.70189       554.73712   \n",
       "\n",
       "                    WM88_SKIN  YD38_UPPER_AERODIGESTIVE_TRACT  ZR751_BREAST  \n",
       "ENSG00000233954.4   161.20895                        96.15622     214.73779  \n",
       "ENSG00000175793.10    0.63909                       486.32864      20.35825  \n",
       "ENSG00000126709.10   31.89032                        34.44125      15.82043  \n",
       "ENSG00000142910.11    3.29571                        52.42889       0.39441  \n",
       "ENSG00000117472.5     0.42485                       124.10782      37.84809  \n",
       "...                       ...                             ...           ...  \n",
       "ENSG00000241465.2    47.40757                         0.00000       0.14381  \n",
       "ENSG00000123560.9   150.67763                         0.09574       0.04809  \n",
       "ENSG00000147381.7     3.31069                        78.89227       0.11529  \n",
       "ENSG00000182492.11    0.20825                         0.16819       0.07621  \n",
       "ENSG00000185275.6     1.01720                        61.21038     333.73865  \n",
       "\n",
       "[265 rows x 191 columns]"
      ]
     },
     "execution_count": 5,
     "metadata": {},
     "output_type": "execute_result"
    }
   ],
   "source": [
    "exp"
   ]
  },
  {
   "cell_type": "code",
   "execution_count": 6,
   "metadata": {},
   "outputs": [],
   "source": [
    "exp.index=exp.index.str.replace(r\"\\(.*?\\)\",'')"
   ]
  },
  {
   "cell_type": "code",
   "execution_count": 7,
   "metadata": {},
   "outputs": [],
   "source": [
    "exp.index=exp.index.str.strip()"
   ]
  },
  {
   "cell_type": "code",
   "execution_count": 8,
   "metadata": {},
   "outputs": [
    {
     "data": {
      "text/plain": [
       "Index(['ENSG00000233954.4', 'ENSG00000175793.10', 'ENSG00000126709.10',\n",
       "       'ENSG00000142910.11', 'ENSG00000117472.5', 'ENSG00000173660.7',\n",
       "       'ENSG00000184292.5', 'ENSG00000142871.11', 'ENSG00000117525.9',\n",
       "       'ENSG00000169469.7',\n",
       "       ...\n",
       "       'ENSG00000100097.7', 'ENSG00000100146.12', 'ENSG00000205542.6',\n",
       "       'ENSG00000101955.10', 'ENSG00000240257.2', 'ENSG00000241465.2',\n",
       "       'ENSG00000123560.9', 'ENSG00000147381.7', 'ENSG00000182492.11',\n",
       "       'ENSG00000185275.6'],\n",
       "      dtype='object', length=265)"
      ]
     },
     "execution_count": 8,
     "metadata": {},
     "output_type": "execute_result"
    }
   ],
   "source": [
    "exp.index"
   ]
  },
  {
   "cell_type": "code",
   "execution_count": 9,
   "metadata": {},
   "outputs": [],
   "source": [
    "clims = (-2.5, 2.5)\n",
    "D = exp.T\n",
    "D1 = ((D - D.mean(axis=0))/D.std(axis=0)).clip(lower = clims[0], upper = clims[1])\n",
    "D2  = 10000 * ((D1 - clims[0])/(clims[1] - clims[0]))\n",
    "exp = D2.T"
   ]
  },
  {
   "cell_type": "code",
   "execution_count": 10,
   "metadata": {},
   "outputs": [],
   "source": [
    "exp.dropna(inplace=True)"
   ]
  },
  {
   "cell_type": "code",
   "execution_count": 11,
   "metadata": {},
   "outputs": [],
   "source": [
    "exp_arr =np.asarray(exp)"
   ]
  },
  {
   "cell_type": "code",
   "execution_count": 12,
   "metadata": {},
   "outputs": [
    {
     "data": {
      "text/plain": [
       "array([[2214.81848268, 6807.88379922, 4062.77547072, ..., 5767.0741012 ,\n",
       "        3900.10264181, 7303.31733855],\n",
       "       [4782.41126344, 3794.2880408 , 4090.55098629, ..., 3791.2479449 ,\n",
       "        9486.68791692, 4022.48473407],\n",
       "       [4363.65712972, 4712.86419057, 4403.49767447, ..., 4531.48535956,\n",
       "        4546.04469771, 4439.76705973],\n",
       "       ...,\n",
       "       [8441.21753715, 4292.71459892, 4293.19954667, ..., 4395.86163345,\n",
       "        6829.66756701, 4292.9664111 ],\n",
       "       [4623.72959193, 7986.21408484, 4804.91095965, ..., 4625.81354188,\n",
       "        4624.90304963, 4622.8125085 ],\n",
       "       [3727.58950873, 3755.54054667, 3682.70162017, ..., 3687.12146279,\n",
       "        4259.46916493, 6850.80806916]])"
      ]
     },
     "execution_count": 12,
     "metadata": {},
     "output_type": "execute_result"
    }
   ],
   "source": [
    "exp_arr"
   ]
  },
  {
   "cell_type": "code",
   "execution_count": 13,
   "metadata": {},
   "outputs": [
    {
     "name": "stdout",
     "output_type": "stream",
     "text": [
      "Created directory /pine/scr/s/e/seyoun/03.comp790/project_comp790/03.result.\n",
      "Created directory /pine/scr/s/e/seyoun/03.comp790/project_comp790/03.result/4.\n",
      "Created directory /pine/scr/s/e/seyoun/03.comp790/project_comp790/03.result/5.\n",
      "Created directory /pine/scr/s/e/seyoun/03.comp790/project_comp790/03.result/6.\n",
      "Created directory /pine/scr/s/e/seyoun/03.comp790/project_comp790/03.result/7.\n",
      "Created directory /pine/scr/s/e/seyoun/03.comp790/project_comp790/03.result/8.\n",
      "Created directory /pine/scr/s/e/seyoun/03.comp790/project_comp790/03.result/9.\n",
      "Created directory /pine/scr/s/e/seyoun/03.comp790/project_comp790/03.result/10.\n",
      "Created directory /pine/scr/s/e/seyoun/03.comp790/project_comp790/03.result/11.\n",
      "MFCC with K=5 ...MFCC with K=4 ...\n",
      "MFCC with K=6 ...\n",
      "\t(K=4) 1/10 ...\n",
      "\n",
      "\t(K=5) 1/10 ...\n",
      "\t(K=6) 1/10 ...MFCC with K=9 ...\n",
      "\n",
      "MFCC with K=10 ...\t(K=9) 1/10 ...\n",
      "\n",
      "\t(K=10) 1/10 ...\n",
      "MFCC with K=11 ...\n",
      "\t(K=11) 1/10 ...\n",
      "MFCC with K=7 ...MFCC with K=8 ...\n",
      "\n",
      "\t(K=8) 1/10 ...\t(K=7) 1/10 ...\n"
     ]
    }
   ],
   "source": [
    "k_nmf= ccal.mf_consensus_cluster_with_ks(\n",
    "    exp,\n",
    "    list(range(4,12)),\n",
    "    n_job=12,\n",
    "    plot_df=False,\n",
    "    plot_w=True,\n",
    "    plot_h=True,\n",
    "    directory_path='/pine/scr/s/e/seyoun/03.comp790/project_comp790/03.result'\n",
    "#     n_clustering=1,\n",
    ")"
   ]
  },
  {
   "cell_type": "code",
   "execution_count": 14,
   "metadata": {},
   "outputs": [],
   "source": [
    "for k in range(5, 10): \n",
    "    w=pd.read_csv('/pine/scr/s/e/seyoun/03.comp790/project_comp790/03.result/{}/w.tsv'.format(k), sep='\\t', index_col=0)\n",
    "\n",
    "    h=pd.read_csv('/pine/scr/s/e/seyoun/03.comp790/project_comp790/03.result/{}/h.tsv'.format(k), sep='\\t', index_col=0)\n",
    "\n",
    "    k_hcc = ccal.hierarchical_consensus_cluster_with_ks(\n",
    "        w,\n",
    "        list(range(4, 11)),\n",
    "        n_job = 1,\n",
    "        distance_function = ccal.compute_correlation_distance,\n",
    "        n_clustering = 40,\n",
    "        plot_df = True, \n",
    "    directory_path='/pine/scr/s/e/seyoun/03.comp790/project_comp790/03.result/{}/W'.format(k))\n",
    "    \n",
    "    k_hcc = ccal.hierarchical_consensus_cluster_with_ks(\n",
    "        h,\n",
    "        list(range(4,11)),\n",
    "        n_job = 1,\n",
    "        distance_function = ccal.compute_correlation_distance,\n",
    "        n_clustering = 40,\n",
    "        plot_df = True ,\n",
    "    directory_path='/pine/scr/s/e/seyoun/03.comp790/project_comp790/03.result/{}/H'.format(k))"
   ]
  },
  {
   "cell_type": "code",
   "execution_count": 15,
   "metadata": {},
   "outputs": [],
   "source": [
    "Onco_GPS_colors = [\n",
    "                '#FFF5BA',  # 1 Gold\n",
    "                '#4169E1',  # 5 Royal blue\n",
    "                '#be013c',  # 2 Rose Red \n",
    "                '#c071fe',  # 11 easter purple\n",
    "                '#88b378',  # 9 Sage green\n",
    "                '#cc99cc',  # 3 Dark magenta  \n",
    "                '#fce94f',  # 4 Butter\n",
    "\n",
    "                '#fe2c54',  # 6 Redish pink \n",
    "                '#AFF8DB',  # 7 Green\n",
    "                '#ffad01',  # 8 Orange yellow\n",
    "\n",
    "                '#AAAAFF',  # 10 Periwinkle\n",
    "\n",
    "                '#FA8072',  # 12 Salmon\n",
    "                '#ffccf9',  # 13 Pink \n",
    "                '#90EE90',  # 14 Light green \n",
    "                '#c4a000',  # 15\n",
    "                '#e6194b',  # 16\n",
    "                '#3cb44b',  # 17\n",
    "                '#ffe119']  # 18"
   ]
  },
  {
   "cell_type": "code",
   "execution_count": 16,
   "metadata": {},
   "outputs": [],
   "source": [
    "for k in range(5,10):\n",
    "    \n",
    "    w=pd.read_csv('/pine/scr/s/e/seyoun/03.comp790/project_comp790/03.result/{}/w.tsv'.format(k), sep='\\t', index_col=0)\n",
    "\n",
    "    h=pd.read_csv('/pine/scr/s/e/seyoun/03.comp790/project_comp790/03.result/{}/h.tsv'.format(k), sep='\\t', index_col=0)\n",
    "\n",
    "    wT =w.T\n",
    "    wT.index.name = h.index.name\n",
    "    for s in range(5,10):\n",
    "        h_clustering = pd.read_csv('/pine/scr/s/e/seyoun/03.comp790/project_comp790/03.result/{}/H/{}/cluster_x_column.tsv'.format(k, s), sep='\\t', index_col=0)\n",
    "        h_element_labels = h_clustering.apply(lambda column: column.argmax())#.str.lstrip('C').astype(int)\n",
    "\n",
    "\n",
    "        print(\"Making map with {} states and {} components...\".format(s, k))\n",
    "        \n",
    "        gps_map = ccal.GPSMap(\n",
    "            w = wT,\n",
    "            h = h,\n",
    "            w_n_pull = 3,\n",
    "            w_pull_power = 3,\n",
    "            h_n_pull = 3,\n",
    "            h_pull_power = 3,\n",
    "            plot = False,\n",
    "            mds_random_seed = 27)\n",
    "\n",
    "        gps_map.set_element_labels(\n",
    "                        w_or_h = 'h',\n",
    "                        element_labels = h_element_labels,\n",
    "                        n_grid = 64,\n",
    "                        label_colors = Onco_GPS_colors[0:s],\n",
    "                        bandwidth_factor = 6)\n",
    "\n",
    "\n",
    "        gps_map.plot_gps_map(\n",
    "            w_or_h = 'h',\n",
    "            element_marker_size = 24,\n",
    "            title = \n",
    "               'H Map {}-Components {}-States {}-Samples'.format(k, s, h.shape[1]),\n",
    "            html_file_path = \n",
    "               '/pine/scr/s/e/seyoun/03.comp790/project_comp790/03.result/{}/Onco-GPS_H_Map_{}-Comp_{}-Stat_{}-Samp.html'.format(k,k, \n",
    "                                                                                    s, \n",
    "                                                                                    len(h.columns))\n",
    "        )"
   ]
  }
 ],
 "metadata": {
  "kernelspec": {
   "display_name": "Python 3",
   "language": "python",
   "name": "python3"
  },
  "language_info": {
   "codemirror_mode": {
    "name": "ipython",
    "version": 3
   },
   "file_extension": ".py",
   "mimetype": "text/x-python",
   "name": "python",
   "nbconvert_exporter": "python",
   "pygments_lexer": "ipython3",
   "version": "3.8.3"
  }
 },
 "nbformat": 4,
 "nbformat_minor": 4
}
